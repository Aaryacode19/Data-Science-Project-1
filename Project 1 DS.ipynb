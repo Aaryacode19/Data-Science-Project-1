{
 "cells": [
  {
   "cell_type": "markdown",
   "id": "7a8f7204-d916-4723-af00-fdd6bf5aaba3",
   "metadata": {},
   "source": [
    "<h1>Data Structure Project  - 1</h1>\n",
    "<p>Name: Aarya Trifale, Roll no: 41</p>\n",
    "<h2>Domain: Underwater Acoustics</h2>\n",
    "<h2>Problem Statement: Analyzing the Impact of Depth on Sound Intensity in Underwater Environments</h2>"
   ]
  },
  {
   "cell_type": "code",
   "execution_count": 18,
   "id": "83057b7d-4bb6-477e-aded-8d8eae3062c3",
   "metadata": {},
   "outputs": [
    {
     "data": {
      "text/html": [
       "<div>\n",
       "<style scoped>\n",
       "    .dataframe tbody tr th:only-of-type {\n",
       "        vertical-align: middle;\n",
       "    }\n",
       "\n",
       "    .dataframe tbody tr th {\n",
       "        vertical-align: top;\n",
       "    }\n",
       "\n",
       "    .dataframe thead th {\n",
       "        text-align: right;\n",
       "    }\n",
       "</style>\n",
       "<table border=\"1\" class=\"dataframe\">\n",
       "  <thead>\n",
       "    <tr style=\"text-align: right;\">\n",
       "      <th></th>\n",
       "      <th>sound_type</th>\n",
       "      <th>location</th>\n",
       "      <th>time</th>\n",
       "      <th>intensity_db</th>\n",
       "      <th>depth_meters</th>\n",
       "      <th>duration_seconds</th>\n",
       "      <th>frequency_hz</th>\n",
       "      <th>water_temperature_c</th>\n",
       "      <th>salinity_psu</th>\n",
       "      <th>distance_from_source_m</th>\n",
       "      <th>ambient_noise_db</th>\n",
       "    </tr>\n",
       "  </thead>\n",
       "  <tbody>\n",
       "    <tr>\n",
       "      <th>0</th>\n",
       "      <td>Ship Noise</td>\n",
       "      <td>Indian Ocean</td>\n",
       "      <td>2023-01-01 00:00:00</td>\n",
       "      <td>125.126340</td>\n",
       "      <td>558.392819</td>\n",
       "      <td>200.0</td>\n",
       "      <td>7503.311575</td>\n",
       "      <td>20.944851</td>\n",
       "      <td>NaN</td>\n",
       "      <td>5238.909673</td>\n",
       "      <td>NaN</td>\n",
       "    </tr>\n",
       "    <tr>\n",
       "      <th>1</th>\n",
       "      <td>Seismic Activity</td>\n",
       "      <td>Pacific Ocean</td>\n",
       "      <td>2023-01-01 01:00:00</td>\n",
       "      <td>148.142563</td>\n",
       "      <td>464.070791</td>\n",
       "      <td>79.0</td>\n",
       "      <td>19015.271842</td>\n",
       "      <td>16.082891</td>\n",
       "      <td>33.793307</td>\n",
       "      <td>4843.900589</td>\n",
       "      <td>NaN</td>\n",
       "    </tr>\n",
       "    <tr>\n",
       "      <th>2</th>\n",
       "      <td>Whale Call</td>\n",
       "      <td>Pacific Ocean</td>\n",
       "      <td>2023-01-01 02:00:00</td>\n",
       "      <td>134.256358</td>\n",
       "      <td>559.065483</td>\n",
       "      <td>173.0</td>\n",
       "      <td>14645.238957</td>\n",
       "      <td>9.285828</td>\n",
       "      <td>36.110621</td>\n",
       "      <td>353.856451</td>\n",
       "      <td>NaN</td>\n",
       "    </tr>\n",
       "    <tr>\n",
       "      <th>3</th>\n",
       "      <td>Ship Noise</td>\n",
       "      <td>Arctic Ocean</td>\n",
       "      <td>2023-01-01 03:00:00</td>\n",
       "      <td>111.346445</td>\n",
       "      <td>610.870358</td>\n",
       "      <td>69.0</td>\n",
       "      <td>11981.196514</td>\n",
       "      <td>24.413851</td>\n",
       "      <td>35.125574</td>\n",
       "      <td>3478.353493</td>\n",
       "      <td>57.486386</td>\n",
       "    </tr>\n",
       "    <tr>\n",
       "      <th>4</th>\n",
       "      <td>Ship Noise</td>\n",
       "      <td>Indian Ocean</td>\n",
       "      <td>2023-01-01 04:00:00</td>\n",
       "      <td>106.523780</td>\n",
       "      <td>582.048218</td>\n",
       "      <td>87.0</td>\n",
       "      <td>3137.252436</td>\n",
       "      <td>20.541935</td>\n",
       "      <td>35.645928</td>\n",
       "      <td>3863.936626</td>\n",
       "      <td>58.158492</td>\n",
       "    </tr>\n",
       "    <tr>\n",
       "      <th>...</th>\n",
       "      <td>...</td>\n",
       "      <td>...</td>\n",
       "      <td>...</td>\n",
       "      <td>...</td>\n",
       "      <td>...</td>\n",
       "      <td>...</td>\n",
       "      <td>...</td>\n",
       "      <td>...</td>\n",
       "      <td>...</td>\n",
       "      <td>...</td>\n",
       "      <td>...</td>\n",
       "    </tr>\n",
       "    <tr>\n",
       "      <th>495</th>\n",
       "      <td>Ship Noise</td>\n",
       "      <td>Pacific Ocean</td>\n",
       "      <td>2023-01-21 15:00:00</td>\n",
       "      <td>112.036968</td>\n",
       "      <td>451.208859</td>\n",
       "      <td>251.0</td>\n",
       "      <td>7079.977516</td>\n",
       "      <td>2.747462</td>\n",
       "      <td>34.677490</td>\n",
       "      <td>6603.856047</td>\n",
       "      <td>64.769764</td>\n",
       "    </tr>\n",
       "    <tr>\n",
       "      <th>496</th>\n",
       "      <td>Ship Noise</td>\n",
       "      <td>Pacific Ocean</td>\n",
       "      <td>2023-01-21 16:00:00</td>\n",
       "      <td>112.658408</td>\n",
       "      <td>715.730821</td>\n",
       "      <td>124.0</td>\n",
       "      <td>11681.449115</td>\n",
       "      <td>27.519407</td>\n",
       "      <td>34.336432</td>\n",
       "      <td>9570.484749</td>\n",
       "      <td>67.318371</td>\n",
       "    </tr>\n",
       "    <tr>\n",
       "      <th>497</th>\n",
       "      <td>Seismic Activity</td>\n",
       "      <td>Arctic Ocean</td>\n",
       "      <td>2023-01-21 17:00:00</td>\n",
       "      <td>135.662413</td>\n",
       "      <td>439.428508</td>\n",
       "      <td>121.0</td>\n",
       "      <td>1573.138047</td>\n",
       "      <td>4.104559</td>\n",
       "      <td>33.244458</td>\n",
       "      <td>782.684362</td>\n",
       "      <td>75.967314</td>\n",
       "    </tr>\n",
       "    <tr>\n",
       "      <th>498</th>\n",
       "      <td>Whale Call</td>\n",
       "      <td>Arctic Ocean</td>\n",
       "      <td>2023-01-21 18:00:00</td>\n",
       "      <td>130.228372</td>\n",
       "      <td>574.209537</td>\n",
       "      <td>NaN</td>\n",
       "      <td>19488.408257</td>\n",
       "      <td>28.507121</td>\n",
       "      <td>32.658500</td>\n",
       "      <td>664.841739</td>\n",
       "      <td>79.422180</td>\n",
       "    </tr>\n",
       "    <tr>\n",
       "      <th>499</th>\n",
       "      <td>Seismic Activity</td>\n",
       "      <td>Indian Ocean</td>\n",
       "      <td>2023-01-21 19:00:00</td>\n",
       "      <td>147.700610</td>\n",
       "      <td>529.929258</td>\n",
       "      <td>120.0</td>\n",
       "      <td>NaN</td>\n",
       "      <td>13.380173</td>\n",
       "      <td>36.043336</td>\n",
       "      <td>2893.652039</td>\n",
       "      <td>62.227526</td>\n",
       "    </tr>\n",
       "  </tbody>\n",
       "</table>\n",
       "<p>500 rows × 11 columns</p>\n",
       "</div>"
      ],
      "text/plain": [
       "           sound_type       location                 time  intensity_db  \\\n",
       "0          Ship Noise   Indian Ocean  2023-01-01 00:00:00    125.126340   \n",
       "1    Seismic Activity  Pacific Ocean  2023-01-01 01:00:00    148.142563   \n",
       "2          Whale Call  Pacific Ocean  2023-01-01 02:00:00    134.256358   \n",
       "3          Ship Noise   Arctic Ocean  2023-01-01 03:00:00    111.346445   \n",
       "4          Ship Noise   Indian Ocean  2023-01-01 04:00:00    106.523780   \n",
       "..                ...            ...                  ...           ...   \n",
       "495        Ship Noise  Pacific Ocean  2023-01-21 15:00:00    112.036968   \n",
       "496        Ship Noise  Pacific Ocean  2023-01-21 16:00:00    112.658408   \n",
       "497  Seismic Activity   Arctic Ocean  2023-01-21 17:00:00    135.662413   \n",
       "498        Whale Call   Arctic Ocean  2023-01-21 18:00:00    130.228372   \n",
       "499  Seismic Activity   Indian Ocean  2023-01-21 19:00:00    147.700610   \n",
       "\n",
       "     depth_meters  duration_seconds  frequency_hz  water_temperature_c  \\\n",
       "0      558.392819             200.0   7503.311575            20.944851   \n",
       "1      464.070791              79.0  19015.271842            16.082891   \n",
       "2      559.065483             173.0  14645.238957             9.285828   \n",
       "3      610.870358              69.0  11981.196514            24.413851   \n",
       "4      582.048218              87.0   3137.252436            20.541935   \n",
       "..            ...               ...           ...                  ...   \n",
       "495    451.208859             251.0   7079.977516             2.747462   \n",
       "496    715.730821             124.0  11681.449115            27.519407   \n",
       "497    439.428508             121.0   1573.138047             4.104559   \n",
       "498    574.209537               NaN  19488.408257            28.507121   \n",
       "499    529.929258             120.0           NaN            13.380173   \n",
       "\n",
       "     salinity_psu  distance_from_source_m  ambient_noise_db  \n",
       "0             NaN             5238.909673               NaN  \n",
       "1       33.793307             4843.900589               NaN  \n",
       "2       36.110621              353.856451               NaN  \n",
       "3       35.125574             3478.353493         57.486386  \n",
       "4       35.645928             3863.936626         58.158492  \n",
       "..            ...                     ...               ...  \n",
       "495     34.677490             6603.856047         64.769764  \n",
       "496     34.336432             9570.484749         67.318371  \n",
       "497     33.244458              782.684362         75.967314  \n",
       "498     32.658500              664.841739         79.422180  \n",
       "499     36.043336             2893.652039         62.227526  \n",
       "\n",
       "[500 rows x 11 columns]"
      ]
     },
     "execution_count": 18,
     "metadata": {},
     "output_type": "execute_result"
    }
   ],
   "source": [
    "#Importing the required libraries and also importing our dataset\n",
    "import pandas as pd\n",
    "import numpy as np\n",
    "\n",
    "file = pd.read_csv(\"underwater data for ds.csv\")\n",
    "file"
   ]
  },
  {
   "cell_type": "markdown",
   "id": "3c01e59b-0e72-474b-b09e-37720f3c5d9a",
   "metadata": {},
   "source": [
    "<h1>Descriptions for each column in the database:</h1>\n",
    "    <ul>\n",
    "        <li><b>sound_type</b>: The type of sound detected (e.g., Ship Noise, Seismic Activity, Whale Call).</li>\n",
    "        <li><b>location</b>: The geographical location where the sound was recorded (e.g., Indian Ocean, Pacific Ocean).</li>\n",
    "        <li><b>time</b>: The timestamp of the sound event, indicating when it was recorded.</li>\n",
    "        <li><b>intensity_db</b>: The intensity of the sound in decibels (dB).</li>\n",
    "        <li><b>depth_meters</b>: The depth (in meters) at which the sound was detected.</li>\n",
    "        <li><b>duration_seconds</b>: The duration of the sound event, measured in seconds.</li>\n",
    "        <li><b>frequency_hz</b>: The estimated frequency of the sound (in Hz).</li>\n",
    "        <li><b>water_temperature_c</b>: The water temperature (in degrees Celsius) at the depth of the sound detection.</li>\n",
    "        <li><b>salinity_psu</b>: The salinity of the water in Practical Salinity Units (PSU).</li>\n",
    "        <li><b>distance_from_source_m</b>: The estimated distance (in meters) between the recording device and the sound source.</li>\n",
    "        <li><b>ambient_noise_db</b>: The level of ambient noise (in decibels) present during the recording.</li>\n",
    "    </ul>\n",
    "</body>\n",
    "</html>\n",
    "\n",
    "\n"
   ]
  },
  {
   "cell_type": "code",
   "execution_count": 19,
   "id": "a54cf0b6-7c7d-4538-bcaf-cb798b5be066",
   "metadata": {},
   "outputs": [
    {
     "data": {
      "text/html": [
       "<div>\n",
       "<style scoped>\n",
       "    .dataframe tbody tr th:only-of-type {\n",
       "        vertical-align: middle;\n",
       "    }\n",
       "\n",
       "    .dataframe tbody tr th {\n",
       "        vertical-align: top;\n",
       "    }\n",
       "\n",
       "    .dataframe thead th {\n",
       "        text-align: right;\n",
       "    }\n",
       "</style>\n",
       "<table border=\"1\" class=\"dataframe\">\n",
       "  <thead>\n",
       "    <tr style=\"text-align: right;\">\n",
       "      <th></th>\n",
       "      <th>sound_type</th>\n",
       "      <th>location</th>\n",
       "      <th>time</th>\n",
       "      <th>intensity_db</th>\n",
       "      <th>depth_meters</th>\n",
       "      <th>duration_seconds</th>\n",
       "      <th>frequency_hz</th>\n",
       "      <th>water_temperature_c</th>\n",
       "      <th>salinity_psu</th>\n",
       "      <th>distance_from_source_m</th>\n",
       "      <th>ambient_noise_db</th>\n",
       "    </tr>\n",
       "  </thead>\n",
       "  <tbody>\n",
       "    <tr>\n",
       "      <th>0</th>\n",
       "      <td>Ship Noise</td>\n",
       "      <td>Indian Ocean</td>\n",
       "      <td>2023-01-01 00:00:00</td>\n",
       "      <td>125.126340</td>\n",
       "      <td>558.392819</td>\n",
       "      <td>200.0</td>\n",
       "      <td>7503.311575</td>\n",
       "      <td>20.944851</td>\n",
       "      <td>NaN</td>\n",
       "      <td>5238.909673</td>\n",
       "      <td>NaN</td>\n",
       "    </tr>\n",
       "    <tr>\n",
       "      <th>1</th>\n",
       "      <td>Seismic Activity</td>\n",
       "      <td>Pacific Ocean</td>\n",
       "      <td>2023-01-01 01:00:00</td>\n",
       "      <td>148.142563</td>\n",
       "      <td>464.070791</td>\n",
       "      <td>79.0</td>\n",
       "      <td>19015.271842</td>\n",
       "      <td>16.082891</td>\n",
       "      <td>33.793307</td>\n",
       "      <td>4843.900589</td>\n",
       "      <td>NaN</td>\n",
       "    </tr>\n",
       "    <tr>\n",
       "      <th>2</th>\n",
       "      <td>Whale Call</td>\n",
       "      <td>Pacific Ocean</td>\n",
       "      <td>2023-01-01 02:00:00</td>\n",
       "      <td>134.256358</td>\n",
       "      <td>559.065483</td>\n",
       "      <td>173.0</td>\n",
       "      <td>14645.238957</td>\n",
       "      <td>9.285828</td>\n",
       "      <td>36.110621</td>\n",
       "      <td>353.856451</td>\n",
       "      <td>NaN</td>\n",
       "    </tr>\n",
       "    <tr>\n",
       "      <th>3</th>\n",
       "      <td>Ship Noise</td>\n",
       "      <td>Arctic Ocean</td>\n",
       "      <td>2023-01-01 03:00:00</td>\n",
       "      <td>111.346445</td>\n",
       "      <td>610.870358</td>\n",
       "      <td>69.0</td>\n",
       "      <td>11981.196514</td>\n",
       "      <td>24.413851</td>\n",
       "      <td>35.125574</td>\n",
       "      <td>3478.353493</td>\n",
       "      <td>57.486386</td>\n",
       "    </tr>\n",
       "    <tr>\n",
       "      <th>4</th>\n",
       "      <td>Ship Noise</td>\n",
       "      <td>Indian Ocean</td>\n",
       "      <td>2023-01-01 04:00:00</td>\n",
       "      <td>106.523780</td>\n",
       "      <td>582.048218</td>\n",
       "      <td>87.0</td>\n",
       "      <td>3137.252436</td>\n",
       "      <td>20.541935</td>\n",
       "      <td>35.645928</td>\n",
       "      <td>3863.936626</td>\n",
       "      <td>58.158492</td>\n",
       "    </tr>\n",
       "  </tbody>\n",
       "</table>\n",
       "</div>"
      ],
      "text/plain": [
       "         sound_type       location                 time  intensity_db  \\\n",
       "0        Ship Noise   Indian Ocean  2023-01-01 00:00:00    125.126340   \n",
       "1  Seismic Activity  Pacific Ocean  2023-01-01 01:00:00    148.142563   \n",
       "2        Whale Call  Pacific Ocean  2023-01-01 02:00:00    134.256358   \n",
       "3        Ship Noise   Arctic Ocean  2023-01-01 03:00:00    111.346445   \n",
       "4        Ship Noise   Indian Ocean  2023-01-01 04:00:00    106.523780   \n",
       "\n",
       "   depth_meters  duration_seconds  frequency_hz  water_temperature_c  \\\n",
       "0    558.392819             200.0   7503.311575            20.944851   \n",
       "1    464.070791              79.0  19015.271842            16.082891   \n",
       "2    559.065483             173.0  14645.238957             9.285828   \n",
       "3    610.870358              69.0  11981.196514            24.413851   \n",
       "4    582.048218              87.0   3137.252436            20.541935   \n",
       "\n",
       "   salinity_psu  distance_from_source_m  ambient_noise_db  \n",
       "0           NaN             5238.909673               NaN  \n",
       "1     33.793307             4843.900589               NaN  \n",
       "2     36.110621              353.856451               NaN  \n",
       "3     35.125574             3478.353493         57.486386  \n",
       "4     35.645928             3863.936626         58.158492  "
      ]
     },
     "execution_count": 19,
     "metadata": {},
     "output_type": "execute_result"
    }
   ],
   "source": [
    "file.head() #.head() returns the first few rows (the “head” of the dataframe i.e. excel file)"
   ]
  },
  {
   "cell_type": "code",
   "execution_count": 20,
   "id": "24d2e530-3581-48e8-939a-713191436829",
   "metadata": {},
   "outputs": [
    {
     "data": {
      "text/html": [
       "<div>\n",
       "<style scoped>\n",
       "    .dataframe tbody tr th:only-of-type {\n",
       "        vertical-align: middle;\n",
       "    }\n",
       "\n",
       "    .dataframe tbody tr th {\n",
       "        vertical-align: top;\n",
       "    }\n",
       "\n",
       "    .dataframe thead th {\n",
       "        text-align: right;\n",
       "    }\n",
       "</style>\n",
       "<table border=\"1\" class=\"dataframe\">\n",
       "  <thead>\n",
       "    <tr style=\"text-align: right;\">\n",
       "      <th></th>\n",
       "      <th>sound_type</th>\n",
       "      <th>location</th>\n",
       "      <th>time</th>\n",
       "      <th>intensity_db</th>\n",
       "      <th>depth_meters</th>\n",
       "      <th>duration_seconds</th>\n",
       "      <th>frequency_hz</th>\n",
       "      <th>water_temperature_c</th>\n",
       "      <th>salinity_psu</th>\n",
       "      <th>distance_from_source_m</th>\n",
       "      <th>ambient_noise_db</th>\n",
       "    </tr>\n",
       "  </thead>\n",
       "  <tbody>\n",
       "    <tr>\n",
       "      <th>495</th>\n",
       "      <td>Ship Noise</td>\n",
       "      <td>Pacific Ocean</td>\n",
       "      <td>2023-01-21 15:00:00</td>\n",
       "      <td>112.036968</td>\n",
       "      <td>451.208859</td>\n",
       "      <td>251.0</td>\n",
       "      <td>7079.977516</td>\n",
       "      <td>2.747462</td>\n",
       "      <td>34.677490</td>\n",
       "      <td>6603.856047</td>\n",
       "      <td>64.769764</td>\n",
       "    </tr>\n",
       "    <tr>\n",
       "      <th>496</th>\n",
       "      <td>Ship Noise</td>\n",
       "      <td>Pacific Ocean</td>\n",
       "      <td>2023-01-21 16:00:00</td>\n",
       "      <td>112.658408</td>\n",
       "      <td>715.730821</td>\n",
       "      <td>124.0</td>\n",
       "      <td>11681.449115</td>\n",
       "      <td>27.519407</td>\n",
       "      <td>34.336432</td>\n",
       "      <td>9570.484749</td>\n",
       "      <td>67.318371</td>\n",
       "    </tr>\n",
       "    <tr>\n",
       "      <th>497</th>\n",
       "      <td>Seismic Activity</td>\n",
       "      <td>Arctic Ocean</td>\n",
       "      <td>2023-01-21 17:00:00</td>\n",
       "      <td>135.662413</td>\n",
       "      <td>439.428508</td>\n",
       "      <td>121.0</td>\n",
       "      <td>1573.138047</td>\n",
       "      <td>4.104559</td>\n",
       "      <td>33.244458</td>\n",
       "      <td>782.684362</td>\n",
       "      <td>75.967314</td>\n",
       "    </tr>\n",
       "    <tr>\n",
       "      <th>498</th>\n",
       "      <td>Whale Call</td>\n",
       "      <td>Arctic Ocean</td>\n",
       "      <td>2023-01-21 18:00:00</td>\n",
       "      <td>130.228372</td>\n",
       "      <td>574.209537</td>\n",
       "      <td>NaN</td>\n",
       "      <td>19488.408257</td>\n",
       "      <td>28.507121</td>\n",
       "      <td>32.658500</td>\n",
       "      <td>664.841739</td>\n",
       "      <td>79.422180</td>\n",
       "    </tr>\n",
       "    <tr>\n",
       "      <th>499</th>\n",
       "      <td>Seismic Activity</td>\n",
       "      <td>Indian Ocean</td>\n",
       "      <td>2023-01-21 19:00:00</td>\n",
       "      <td>147.700610</td>\n",
       "      <td>529.929258</td>\n",
       "      <td>120.0</td>\n",
       "      <td>NaN</td>\n",
       "      <td>13.380173</td>\n",
       "      <td>36.043336</td>\n",
       "      <td>2893.652039</td>\n",
       "      <td>62.227526</td>\n",
       "    </tr>\n",
       "  </tbody>\n",
       "</table>\n",
       "</div>"
      ],
      "text/plain": [
       "           sound_type       location                 time  intensity_db  \\\n",
       "495        Ship Noise  Pacific Ocean  2023-01-21 15:00:00    112.036968   \n",
       "496        Ship Noise  Pacific Ocean  2023-01-21 16:00:00    112.658408   \n",
       "497  Seismic Activity   Arctic Ocean  2023-01-21 17:00:00    135.662413   \n",
       "498        Whale Call   Arctic Ocean  2023-01-21 18:00:00    130.228372   \n",
       "499  Seismic Activity   Indian Ocean  2023-01-21 19:00:00    147.700610   \n",
       "\n",
       "     depth_meters  duration_seconds  frequency_hz  water_temperature_c  \\\n",
       "495    451.208859             251.0   7079.977516             2.747462   \n",
       "496    715.730821             124.0  11681.449115            27.519407   \n",
       "497    439.428508             121.0   1573.138047             4.104559   \n",
       "498    574.209537               NaN  19488.408257            28.507121   \n",
       "499    529.929258             120.0           NaN            13.380173   \n",
       "\n",
       "     salinity_psu  distance_from_source_m  ambient_noise_db  \n",
       "495     34.677490             6603.856047         64.769764  \n",
       "496     34.336432             9570.484749         67.318371  \n",
       "497     33.244458              782.684362         75.967314  \n",
       "498     32.658500              664.841739         79.422180  \n",
       "499     36.043336             2893.652039         62.227526  "
      ]
     },
     "execution_count": 20,
     "metadata": {},
     "output_type": "execute_result"
    }
   ],
   "source": [
    "file.tail() #.tail() method returns a specified number of last row"
   ]
  },
  {
   "cell_type": "code",
   "execution_count": 21,
   "id": "a9f13d32-a17f-4c3f-a09a-f18408180ddb",
   "metadata": {},
   "outputs": [
    {
     "data": {
      "text/html": [
       "<div>\n",
       "<style scoped>\n",
       "    .dataframe tbody tr th:only-of-type {\n",
       "        vertical-align: middle;\n",
       "    }\n",
       "\n",
       "    .dataframe tbody tr th {\n",
       "        vertical-align: top;\n",
       "    }\n",
       "\n",
       "    .dataframe thead th {\n",
       "        text-align: right;\n",
       "    }\n",
       "</style>\n",
       "<table border=\"1\" class=\"dataframe\">\n",
       "  <thead>\n",
       "    <tr style=\"text-align: right;\">\n",
       "      <th></th>\n",
       "      <th>intensity_db</th>\n",
       "      <th>depth_meters</th>\n",
       "      <th>duration_seconds</th>\n",
       "      <th>frequency_hz</th>\n",
       "      <th>water_temperature_c</th>\n",
       "      <th>salinity_psu</th>\n",
       "      <th>distance_from_source_m</th>\n",
       "      <th>ambient_noise_db</th>\n",
       "    </tr>\n",
       "  </thead>\n",
       "  <tbody>\n",
       "    <tr>\n",
       "      <th>count</th>\n",
       "      <td>475.000000</td>\n",
       "      <td>485.000000</td>\n",
       "      <td>480.000000</td>\n",
       "      <td>450.000000</td>\n",
       "      <td>450.000000</td>\n",
       "      <td>450.000000</td>\n",
       "      <td>450.000000</td>\n",
       "      <td>450.000000</td>\n",
       "    </tr>\n",
       "    <tr>\n",
       "      <th>mean</th>\n",
       "      <td>120.241194</td>\n",
       "      <td>508.021042</td>\n",
       "      <td>148.018750</td>\n",
       "      <td>10284.649069</td>\n",
       "      <td>14.319904</td>\n",
       "      <td>33.681080</td>\n",
       "      <td>4947.540520</td>\n",
       "      <td>65.118901</td>\n",
       "    </tr>\n",
       "    <tr>\n",
       "      <th>std</th>\n",
       "      <td>15.011666</td>\n",
       "      <td>99.284176</td>\n",
       "      <td>83.683204</td>\n",
       "      <td>5915.608527</td>\n",
       "      <td>8.608401</td>\n",
       "      <td>2.075972</td>\n",
       "      <td>2835.603933</td>\n",
       "      <td>8.529912</td>\n",
       "    </tr>\n",
       "    <tr>\n",
       "      <th>min</th>\n",
       "      <td>79.546700</td>\n",
       "      <td>210.374462</td>\n",
       "      <td>1.000000</td>\n",
       "      <td>121.130445</td>\n",
       "      <td>0.138961</td>\n",
       "      <td>30.034580</td>\n",
       "      <td>131.860810</td>\n",
       "      <td>50.046953</td>\n",
       "    </tr>\n",
       "    <tr>\n",
       "      <th>25%</th>\n",
       "      <td>110.517344</td>\n",
       "      <td>441.831909</td>\n",
       "      <td>76.000000</td>\n",
       "      <td>5177.861299</td>\n",
       "      <td>6.768430</td>\n",
       "      <td>31.809770</td>\n",
       "      <td>2421.566842</td>\n",
       "      <td>58.281554</td>\n",
       "    </tr>\n",
       "    <tr>\n",
       "      <th>50%</th>\n",
       "      <td>119.509579</td>\n",
       "      <td>510.537551</td>\n",
       "      <td>146.500000</td>\n",
       "      <td>10619.442047</td>\n",
       "      <td>13.868108</td>\n",
       "      <td>33.844574</td>\n",
       "      <td>5054.067706</td>\n",
       "      <td>65.280311</td>\n",
       "    </tr>\n",
       "    <tr>\n",
       "      <th>75%</th>\n",
       "      <td>129.846824</td>\n",
       "      <td>570.835645</td>\n",
       "      <td>219.250000</td>\n",
       "      <td>15419.060989</td>\n",
       "      <td>21.650957</td>\n",
       "      <td>35.522021</td>\n",
       "      <td>7376.650081</td>\n",
       "      <td>72.134066</td>\n",
       "    </tr>\n",
       "    <tr>\n",
       "      <th>max</th>\n",
       "      <td>166.183212</td>\n",
       "      <td>757.970934</td>\n",
       "      <td>297.000000</td>\n",
       "      <td>19859.436626</td>\n",
       "      <td>29.991530</td>\n",
       "      <td>36.995896</td>\n",
       "      <td>9983.640363</td>\n",
       "      <td>79.863125</td>\n",
       "    </tr>\n",
       "  </tbody>\n",
       "</table>\n",
       "</div>"
      ],
      "text/plain": [
       "       intensity_db  depth_meters  duration_seconds  frequency_hz  \\\n",
       "count    475.000000    485.000000        480.000000    450.000000   \n",
       "mean     120.241194    508.021042        148.018750  10284.649069   \n",
       "std       15.011666     99.284176         83.683204   5915.608527   \n",
       "min       79.546700    210.374462          1.000000    121.130445   \n",
       "25%      110.517344    441.831909         76.000000   5177.861299   \n",
       "50%      119.509579    510.537551        146.500000  10619.442047   \n",
       "75%      129.846824    570.835645        219.250000  15419.060989   \n",
       "max      166.183212    757.970934        297.000000  19859.436626   \n",
       "\n",
       "       water_temperature_c  salinity_psu  distance_from_source_m  \\\n",
       "count           450.000000    450.000000              450.000000   \n",
       "mean             14.319904     33.681080             4947.540520   \n",
       "std               8.608401      2.075972             2835.603933   \n",
       "min               0.138961     30.034580              131.860810   \n",
       "25%               6.768430     31.809770             2421.566842   \n",
       "50%              13.868108     33.844574             5054.067706   \n",
       "75%              21.650957     35.522021             7376.650081   \n",
       "max              29.991530     36.995896             9983.640363   \n",
       "\n",
       "       ambient_noise_db  \n",
       "count        450.000000  \n",
       "mean          65.118901  \n",
       "std            8.529912  \n",
       "min           50.046953  \n",
       "25%           58.281554  \n",
       "50%           65.280311  \n",
       "75%           72.134066  \n",
       "max           79.863125  "
      ]
     },
     "execution_count": 21,
     "metadata": {},
     "output_type": "execute_result"
    }
   ],
   "source": [
    "file.describe() #.describe() calculates a few summary statistics for each column"
   ]
  },
  {
   "cell_type": "code",
   "execution_count": 22,
   "id": "1790162a-0228-486e-b808-c9545c4a6504",
   "metadata": {},
   "outputs": [
    {
     "name": "stdout",
     "output_type": "stream",
     "text": [
      "<class 'pandas.core.frame.DataFrame'>\n",
      "RangeIndex: 500 entries, 0 to 499\n",
      "Data columns (total 11 columns):\n",
      " #   Column                  Non-Null Count  Dtype  \n",
      "---  ------                  --------------  -----  \n",
      " 0   sound_type              500 non-null    object \n",
      " 1   location                500 non-null    object \n",
      " 2   time                    500 non-null    object \n",
      " 3   intensity_db            475 non-null    float64\n",
      " 4   depth_meters            485 non-null    float64\n",
      " 5   duration_seconds        480 non-null    float64\n",
      " 6   frequency_hz            450 non-null    float64\n",
      " 7   water_temperature_c     450 non-null    float64\n",
      " 8   salinity_psu            450 non-null    float64\n",
      " 9   distance_from_source_m  450 non-null    float64\n",
      " 10  ambient_noise_db        450 non-null    float64\n",
      "dtypes: float64(8), object(3)\n",
      "memory usage: 43.1+ KB\n"
     ]
    }
   ],
   "source": [
    "file.info() #.info() shows information on each of the columns such as the data type and number of missing values"
   ]
  },
  {
   "cell_type": "code",
   "execution_count": 23,
   "id": "fc1a6d87-df36-4650-87d2-673200b7a2d3",
   "metadata": {},
   "outputs": [
    {
     "data": {
      "text/plain": [
       "sound_type                 0\n",
       "location                   0\n",
       "time                       0\n",
       "intensity_db              25\n",
       "depth_meters              15\n",
       "duration_seconds          20\n",
       "frequency_hz              50\n",
       "water_temperature_c       50\n",
       "salinity_psu              50\n",
       "distance_from_source_m    50\n",
       "ambient_noise_db          50\n",
       "dtype: int64"
      ]
     },
     "execution_count": 23,
     "metadata": {},
     "output_type": "execute_result"
    }
   ],
   "source": [
    "file.isnull().sum() #this will return the number of missing values in dataset"
   ]
  },
  {
   "cell_type": "code",
   "execution_count": 24,
   "id": "e828c1b6-5fde-4ac1-979a-efe16eeedff1",
   "metadata": {},
   "outputs": [
    {
     "data": {
      "text/plain": [
       "0      558.392819\n",
       "1      464.070791\n",
       "2      559.065483\n",
       "3      610.870358\n",
       "4      582.048218\n",
       "          ...    \n",
       "495    451.208859\n",
       "496    715.730821\n",
       "497    439.428508\n",
       "498    574.209537\n",
       "499    529.929258\n",
       "Name: depth_meters, Length: 500, dtype: float64"
      ]
     },
     "execution_count": 24,
     "metadata": {},
     "output_type": "execute_result"
    }
   ],
   "source": [
    "file['depth_meters'] = file['depth_meters'].fillna(0) #this fillna() replaces missing values in the `society` column with `'Null Values'` and then shows the updated column.\n",
    "file['depth_meters']"
   ]
  },
  {
   "cell_type": "code",
   "execution_count": 25,
   "id": "70d9af66-b6b3-419a-8e74-5036dfdb49b0",
   "metadata": {},
   "outputs": [
    {
     "data": {
      "text/plain": [
       "0      125.126340\n",
       "1      148.142563\n",
       "2      134.256358\n",
       "3      111.346445\n",
       "4      106.523780\n",
       "          ...    \n",
       "495    112.036968\n",
       "496    112.658408\n",
       "497    135.662413\n",
       "498    130.228372\n",
       "499    147.700610\n",
       "Name: intensity_db, Length: 500, dtype: float64"
      ]
     },
     "execution_count": 25,
     "metadata": {},
     "output_type": "execute_result"
    }
   ],
   "source": [
    "file['intensity_db'] = file['intensity_db'].fillna(0) #this fillna() replaces missing values in the `society` column with `'Null Values'` and then shows the updated column.\n",
    "file['intensity_db']"
   ]
  },
  {
   "cell_type": "code",
   "execution_count": 26,
   "id": "4ac09b76-e363-42e0-b2a9-0bff8a2ad41b",
   "metadata": {},
   "outputs": [
    {
     "data": {
      "text/plain": [
       "0      200.0\n",
       "1       79.0\n",
       "2      173.0\n",
       "3       69.0\n",
       "4       87.0\n",
       "       ...  \n",
       "495    251.0\n",
       "496    124.0\n",
       "497    121.0\n",
       "498      0.0\n",
       "499    120.0\n",
       "Name: duration_seconds, Length: 500, dtype: float64"
      ]
     },
     "execution_count": 26,
     "metadata": {},
     "output_type": "execute_result"
    }
   ],
   "source": [
    "file['duration_seconds'] = file['duration_seconds'].fillna(0) #this fillna() replaces missing values in the `society` column with `'Null Values'` and then shows the updated column.\n",
    "file['duration_seconds']"
   ]
  },
  {
   "cell_type": "code",
   "execution_count": 27,
   "id": "f06fc177-a20d-47ab-94f3-a38f9fbd7ca2",
   "metadata": {},
   "outputs": [
    {
     "data": {
      "text/plain": [
       "0       7503.311575\n",
       "1      19015.271842\n",
       "2      14645.238957\n",
       "3      11981.196514\n",
       "4       3137.252436\n",
       "           ...     \n",
       "495     7079.977516\n",
       "496    11681.449115\n",
       "497     1573.138047\n",
       "498    19488.408257\n",
       "499        0.000000\n",
       "Name: frequency_hz, Length: 500, dtype: float64"
      ]
     },
     "execution_count": 27,
     "metadata": {},
     "output_type": "execute_result"
    }
   ],
   "source": [
    "file['frequency_hz'] = file['frequency_hz'].fillna(0)\n",
    "file['frequency_hz']"
   ]
  },
  {
   "cell_type": "code",
   "execution_count": 28,
   "id": "8964f594-db7b-4173-a999-89a4bc32b1df",
   "metadata": {},
   "outputs": [
    {
     "data": {
      "text/plain": [
       "0      20.944851\n",
       "1      16.082891\n",
       "2       9.285828\n",
       "3      24.413851\n",
       "4      20.541935\n",
       "         ...    \n",
       "495     2.747462\n",
       "496    27.519407\n",
       "497     4.104559\n",
       "498    28.507121\n",
       "499    13.380173\n",
       "Name: water_temperature_c, Length: 500, dtype: float64"
      ]
     },
     "execution_count": 28,
     "metadata": {},
     "output_type": "execute_result"
    }
   ],
   "source": [
    "file['water_temperature_c'] = file['water_temperature_c'].fillna(0)\n",
    "file['water_temperature_c']"
   ]
  },
  {
   "cell_type": "code",
   "execution_count": 29,
   "id": "6784a24a-77c8-4105-8d34-deae649d7f88",
   "metadata": {},
   "outputs": [
    {
     "data": {
      "text/plain": [
       "0      19.000000\n",
       "1      33.793307\n",
       "2      36.110621\n",
       "3      35.125574\n",
       "4      35.645928\n",
       "         ...    \n",
       "495    34.677490\n",
       "496    34.336432\n",
       "497    33.244458\n",
       "498    32.658500\n",
       "499    36.043336\n",
       "Name: salinity_psu, Length: 500, dtype: float64"
      ]
     },
     "execution_count": 29,
     "metadata": {},
     "output_type": "execute_result"
    }
   ],
   "source": [
    "file['salinity_psu'] = file['salinity_psu'].fillna(19)\n",
    "file['salinity_psu']"
   ]
  },
  {
   "cell_type": "code",
   "execution_count": 30,
   "id": "5cc32646-57a6-428b-98f7-7cd1dd208ed7",
   "metadata": {},
   "outputs": [
    {
     "data": {
      "text/plain": [
       "0      5238.909673\n",
       "1      4843.900589\n",
       "2       353.856451\n",
       "3      3478.353493\n",
       "4      3863.936626\n",
       "          ...     \n",
       "495    6603.856047\n",
       "496    9570.484749\n",
       "497     782.684362\n",
       "498     664.841739\n",
       "499    2893.652039\n",
       "Name: distance_from_source_m, Length: 500, dtype: float64"
      ]
     },
     "execution_count": 30,
     "metadata": {},
     "output_type": "execute_result"
    }
   ],
   "source": [
    "file['distance_from_source_m'] = file['distance_from_source_m'].fillna(0)\n",
    "file['distance_from_source_m']"
   ]
  },
  {
   "cell_type": "code",
   "execution_count": 31,
   "id": "419a276f-ab5a-44e9-ba0f-3e94e24bb2b1",
   "metadata": {},
   "outputs": [
    {
     "data": {
      "text/plain": [
       "0       0.000000\n",
       "1       0.000000\n",
       "2       0.000000\n",
       "3      57.486386\n",
       "4      58.158492\n",
       "         ...    \n",
       "495    64.769764\n",
       "496    67.318371\n",
       "497    75.967314\n",
       "498    79.422180\n",
       "499    62.227526\n",
       "Name: ambient_noise_db, Length: 500, dtype: float64"
      ]
     },
     "execution_count": 31,
     "metadata": {},
     "output_type": "execute_result"
    }
   ],
   "source": [
    "file['ambient_noise_db'] = file['ambient_noise_db'].fillna(0)\n",
    "file['ambient_noise_db']"
   ]
  },
  {
   "cell_type": "code",
   "execution_count": 32,
   "id": "8cd2ad20-8007-416f-a78f-bd9f41090a3f",
   "metadata": {},
   "outputs": [
    {
     "data": {
      "text/html": [
       "<div>\n",
       "<style scoped>\n",
       "    .dataframe tbody tr th:only-of-type {\n",
       "        vertical-align: middle;\n",
       "    }\n",
       "\n",
       "    .dataframe tbody tr th {\n",
       "        vertical-align: top;\n",
       "    }\n",
       "\n",
       "    .dataframe thead th {\n",
       "        text-align: right;\n",
       "    }\n",
       "</style>\n",
       "<table border=\"1\" class=\"dataframe\">\n",
       "  <thead>\n",
       "    <tr style=\"text-align: right;\">\n",
       "      <th></th>\n",
       "      <th>sound_type</th>\n",
       "      <th>location</th>\n",
       "      <th>time</th>\n",
       "      <th>intensity_db</th>\n",
       "      <th>depth_meters</th>\n",
       "      <th>duration_seconds</th>\n",
       "      <th>frequency_hz</th>\n",
       "      <th>water_temperature_c</th>\n",
       "      <th>salinity_psu</th>\n",
       "      <th>distance_from_source_m</th>\n",
       "      <th>ambient_noise_db</th>\n",
       "    </tr>\n",
       "  </thead>\n",
       "  <tbody>\n",
       "    <tr>\n",
       "      <th>0</th>\n",
       "      <td>Ship Noise</td>\n",
       "      <td>Indian Ocean</td>\n",
       "      <td>2023-01-01 00:00:00</td>\n",
       "      <td>125.126340</td>\n",
       "      <td>558.392819</td>\n",
       "      <td>200.0</td>\n",
       "      <td>7503.311575</td>\n",
       "      <td>20.944851</td>\n",
       "      <td>19.000000</td>\n",
       "      <td>5238.909673</td>\n",
       "      <td>0.000000</td>\n",
       "    </tr>\n",
       "    <tr>\n",
       "      <th>1</th>\n",
       "      <td>Seismic Activity</td>\n",
       "      <td>Pacific Ocean</td>\n",
       "      <td>2023-01-01 01:00:00</td>\n",
       "      <td>148.142563</td>\n",
       "      <td>464.070791</td>\n",
       "      <td>79.0</td>\n",
       "      <td>19015.271842</td>\n",
       "      <td>16.082891</td>\n",
       "      <td>33.793307</td>\n",
       "      <td>4843.900589</td>\n",
       "      <td>0.000000</td>\n",
       "    </tr>\n",
       "    <tr>\n",
       "      <th>2</th>\n",
       "      <td>Whale Call</td>\n",
       "      <td>Pacific Ocean</td>\n",
       "      <td>2023-01-01 02:00:00</td>\n",
       "      <td>134.256358</td>\n",
       "      <td>559.065483</td>\n",
       "      <td>173.0</td>\n",
       "      <td>14645.238957</td>\n",
       "      <td>9.285828</td>\n",
       "      <td>36.110621</td>\n",
       "      <td>353.856451</td>\n",
       "      <td>0.000000</td>\n",
       "    </tr>\n",
       "    <tr>\n",
       "      <th>3</th>\n",
       "      <td>Ship Noise</td>\n",
       "      <td>Arctic Ocean</td>\n",
       "      <td>2023-01-01 03:00:00</td>\n",
       "      <td>111.346445</td>\n",
       "      <td>610.870358</td>\n",
       "      <td>69.0</td>\n",
       "      <td>11981.196514</td>\n",
       "      <td>24.413851</td>\n",
       "      <td>35.125574</td>\n",
       "      <td>3478.353493</td>\n",
       "      <td>57.486386</td>\n",
       "    </tr>\n",
       "    <tr>\n",
       "      <th>4</th>\n",
       "      <td>Ship Noise</td>\n",
       "      <td>Indian Ocean</td>\n",
       "      <td>2023-01-01 04:00:00</td>\n",
       "      <td>106.523780</td>\n",
       "      <td>582.048218</td>\n",
       "      <td>87.0</td>\n",
       "      <td>3137.252436</td>\n",
       "      <td>20.541935</td>\n",
       "      <td>35.645928</td>\n",
       "      <td>3863.936626</td>\n",
       "      <td>58.158492</td>\n",
       "    </tr>\n",
       "    <tr>\n",
       "      <th>...</th>\n",
       "      <td>...</td>\n",
       "      <td>...</td>\n",
       "      <td>...</td>\n",
       "      <td>...</td>\n",
       "      <td>...</td>\n",
       "      <td>...</td>\n",
       "      <td>...</td>\n",
       "      <td>...</td>\n",
       "      <td>...</td>\n",
       "      <td>...</td>\n",
       "      <td>...</td>\n",
       "    </tr>\n",
       "    <tr>\n",
       "      <th>495</th>\n",
       "      <td>Ship Noise</td>\n",
       "      <td>Pacific Ocean</td>\n",
       "      <td>2023-01-21 15:00:00</td>\n",
       "      <td>112.036968</td>\n",
       "      <td>451.208859</td>\n",
       "      <td>251.0</td>\n",
       "      <td>7079.977516</td>\n",
       "      <td>2.747462</td>\n",
       "      <td>34.677490</td>\n",
       "      <td>6603.856047</td>\n",
       "      <td>64.769764</td>\n",
       "    </tr>\n",
       "    <tr>\n",
       "      <th>496</th>\n",
       "      <td>Ship Noise</td>\n",
       "      <td>Pacific Ocean</td>\n",
       "      <td>2023-01-21 16:00:00</td>\n",
       "      <td>112.658408</td>\n",
       "      <td>715.730821</td>\n",
       "      <td>124.0</td>\n",
       "      <td>11681.449115</td>\n",
       "      <td>27.519407</td>\n",
       "      <td>34.336432</td>\n",
       "      <td>9570.484749</td>\n",
       "      <td>67.318371</td>\n",
       "    </tr>\n",
       "    <tr>\n",
       "      <th>497</th>\n",
       "      <td>Seismic Activity</td>\n",
       "      <td>Arctic Ocean</td>\n",
       "      <td>2023-01-21 17:00:00</td>\n",
       "      <td>135.662413</td>\n",
       "      <td>439.428508</td>\n",
       "      <td>121.0</td>\n",
       "      <td>1573.138047</td>\n",
       "      <td>4.104559</td>\n",
       "      <td>33.244458</td>\n",
       "      <td>782.684362</td>\n",
       "      <td>75.967314</td>\n",
       "    </tr>\n",
       "    <tr>\n",
       "      <th>498</th>\n",
       "      <td>Whale Call</td>\n",
       "      <td>Arctic Ocean</td>\n",
       "      <td>2023-01-21 18:00:00</td>\n",
       "      <td>130.228372</td>\n",
       "      <td>574.209537</td>\n",
       "      <td>0.0</td>\n",
       "      <td>19488.408257</td>\n",
       "      <td>28.507121</td>\n",
       "      <td>32.658500</td>\n",
       "      <td>664.841739</td>\n",
       "      <td>79.422180</td>\n",
       "    </tr>\n",
       "    <tr>\n",
       "      <th>499</th>\n",
       "      <td>Seismic Activity</td>\n",
       "      <td>Indian Ocean</td>\n",
       "      <td>2023-01-21 19:00:00</td>\n",
       "      <td>147.700610</td>\n",
       "      <td>529.929258</td>\n",
       "      <td>120.0</td>\n",
       "      <td>0.000000</td>\n",
       "      <td>13.380173</td>\n",
       "      <td>36.043336</td>\n",
       "      <td>2893.652039</td>\n",
       "      <td>62.227526</td>\n",
       "    </tr>\n",
       "  </tbody>\n",
       "</table>\n",
       "<p>500 rows × 11 columns</p>\n",
       "</div>"
      ],
      "text/plain": [
       "           sound_type       location                 time  intensity_db  \\\n",
       "0          Ship Noise   Indian Ocean  2023-01-01 00:00:00    125.126340   \n",
       "1    Seismic Activity  Pacific Ocean  2023-01-01 01:00:00    148.142563   \n",
       "2          Whale Call  Pacific Ocean  2023-01-01 02:00:00    134.256358   \n",
       "3          Ship Noise   Arctic Ocean  2023-01-01 03:00:00    111.346445   \n",
       "4          Ship Noise   Indian Ocean  2023-01-01 04:00:00    106.523780   \n",
       "..                ...            ...                  ...           ...   \n",
       "495        Ship Noise  Pacific Ocean  2023-01-21 15:00:00    112.036968   \n",
       "496        Ship Noise  Pacific Ocean  2023-01-21 16:00:00    112.658408   \n",
       "497  Seismic Activity   Arctic Ocean  2023-01-21 17:00:00    135.662413   \n",
       "498        Whale Call   Arctic Ocean  2023-01-21 18:00:00    130.228372   \n",
       "499  Seismic Activity   Indian Ocean  2023-01-21 19:00:00    147.700610   \n",
       "\n",
       "     depth_meters  duration_seconds  frequency_hz  water_temperature_c  \\\n",
       "0      558.392819             200.0   7503.311575            20.944851   \n",
       "1      464.070791              79.0  19015.271842            16.082891   \n",
       "2      559.065483             173.0  14645.238957             9.285828   \n",
       "3      610.870358              69.0  11981.196514            24.413851   \n",
       "4      582.048218              87.0   3137.252436            20.541935   \n",
       "..            ...               ...           ...                  ...   \n",
       "495    451.208859             251.0   7079.977516             2.747462   \n",
       "496    715.730821             124.0  11681.449115            27.519407   \n",
       "497    439.428508             121.0   1573.138047             4.104559   \n",
       "498    574.209537               0.0  19488.408257            28.507121   \n",
       "499    529.929258             120.0      0.000000            13.380173   \n",
       "\n",
       "     salinity_psu  distance_from_source_m  ambient_noise_db  \n",
       "0       19.000000             5238.909673          0.000000  \n",
       "1       33.793307             4843.900589          0.000000  \n",
       "2       36.110621              353.856451          0.000000  \n",
       "3       35.125574             3478.353493         57.486386  \n",
       "4       35.645928             3863.936626         58.158492  \n",
       "..            ...                     ...               ...  \n",
       "495     34.677490             6603.856047         64.769764  \n",
       "496     34.336432             9570.484749         67.318371  \n",
       "497     33.244458              782.684362         75.967314  \n",
       "498     32.658500              664.841739         79.422180  \n",
       "499     36.043336             2893.652039         62.227526  \n",
       "\n",
       "[500 rows x 11 columns]"
      ]
     },
     "execution_count": 32,
     "metadata": {},
     "output_type": "execute_result"
    }
   ],
   "source": [
    "#removing duplicates\n",
    "file.drop_duplicates()"
   ]
  },
  {
   "cell_type": "code",
   "execution_count": 33,
   "id": "65aada7d-90be-45b7-b834-1ec011b99c85",
   "metadata": {},
   "outputs": [
    {
     "name": "stdout",
     "output_type": "stream",
     "text": [
      "sound_type                 object\n",
      "location                   object\n",
      "time                       object\n",
      "intensity_db              float64\n",
      "depth_meters              float64\n",
      "duration_seconds          float64\n",
      "frequency_hz              float64\n",
      "water_temperature_c       float64\n",
      "salinity_psu              float64\n",
      "distance_from_source_m    float64\n",
      "ambient_noise_db          float64\n",
      "dtype: object\n"
     ]
    }
   ],
   "source": [
    "# Check the data types of all columns\n",
    "print(file.dtypes)\n"
   ]
  },
  {
   "cell_type": "code",
   "execution_count": 34,
   "id": "9af8d69f-d089-406b-bab2-f6a0f3741a77",
   "metadata": {},
   "outputs": [
    {
     "name": "stdout",
     "output_type": "stream",
     "text": [
      "[341 151 342 415 376 325 408 419 437 357 185 253 426  86 297 146 227 432\n",
      " 262 232  41 369 355 477 159 271 278 452 197 282 346 261 141 264 409  67\n",
      " 250  97 424  28 126 299 450 203 128 469  32   7 315 133  69 364 277 125\n",
      "  47 383 358 194 468   0  27  99 210 276 171 295  48 443   0 416 292 319\n",
      " 338 317 354 434 265 365 198 442 104   0 211  34 249 103 379 110 142  13\n",
      " 140   6  22 372 374 311  78 208 222  57 448 384   0 226 269   9 169 102\n",
      "  71 165 466 353 124 339 441 391 236 113 361 304 387 351 406 132 433 266\n",
      " 471 100 464 267 111 136 156 310 327   0 217 474 463 313 229 245 349  68\n",
      " 168  18 306 356 137 451  51  31 273 405 461 139 410 212 184 385 359  23\n",
      " 445   0 115 305 323 279 130 106 215 420 333 149 373   2 417  16 150   0\n",
      "  45 418 138 294 209 321 239  46 399 134  25 145 447 380 152   0 155 472\n",
      " 300 312 403 275 167 177 201 213 366 234 367 200 240  10 388 293 400   1\n",
      " 473 191 414  66 348  65 116 470 178 270 382 324 255 296 482 206 268 407\n",
      " 413 421 352  59 456  58 285  91 204 290 288 309 454 318 170 396 422  50\n",
      " 344 362 162 436 188 248 182 225  62  33 453  84  72   0 114  43 458 401\n",
      " 101 479 397 154   5 480  37  19 402 483 438   0 343 381 370 283 242 205\n",
      "  92 166  17 196  74  60 259 440 389  24  73 393  75 173 334  77 243  42\n",
      " 121 287  21 316 218 335 272 435 247 144 246 332 233 230  96 109  36 465\n",
      "  49  98  94 386 163 431 105 281  85 475  55 286 350 307 180 192 231 189\n",
      " 395 478 127  39 199 485  87 457 460 129 337 455 148 176 122  70 112  52\n",
      " 228  89 274  26 291 377  11 298 429  54 459 308  95 207   0 238 330  80\n",
      " 257  35 193  81  93 430 412 347  63 157 427 252 481 303 263 158 251 187\n",
      " 363   0  88   0  14 326  61   8 301 484 221 378 241 195 390 164 280 289\n",
      " 108 398 181  90 329  82   0 220 411 320 216 375 439 336 224  44  64 160\n",
      " 118 179 235 328 202 322 237  12  79 190  53 345 449 428 174 446 254 153\n",
      " 117 161 147 258 256 223 314 423 394  29   4 392  40 172  56  15 331 371\n",
      " 123   3 131 302  30 260 219 340 244  76 425 186 214   0 143  83 183 462\n",
      "  38  20 444 175 107 404 120 467 360 135 476 119 368 284]\n"
     ]
    }
   ],
   "source": [
    "#transforming catergorical data to numerical/binary\n",
    "from sklearn.preprocessing import StandardScaler, LabelEncoder\n",
    "data =  file['depth_meters']\n",
    "label_encoder = LabelEncoder()\n",
    "encoded_data = label_encoder.fit_transform(data)\n",
    "print(encoded_data) \n"
   ]
  },
  {
   "cell_type": "code",
   "execution_count": 47,
   "id": "b9402cc4-ee3a-4332-9034-c7035d9f3243",
   "metadata": {},
   "outputs": [
    {
     "name": "stdout",
     "output_type": "stream",
     "text": [
      "[308 460 388 128  85 328  44 457 415 161  15 424 218 418  25 126 242 250\n",
      " 164 350  63 215 267 333 365  56  27 422 303 106 440   0 414 256 466 452\n",
      " 197 390 355 427  77 361 403  14  53   9 192 367 435 259 443  38  17 228\n",
      " 315 238   8   0  45   0 310  80 153  64 225 389  72 332 146  98 220  66\n",
      " 137   0 464 249 113 284 219 203 346 373 145 131 189   4  29 426 444 196\n",
      " 341 300 475 409 216  78  24 281 104  33 117  60 448 382 241 433 260  89\n",
      " 437 336  65 207  87  37 385 463  36 339 116 158 127  88 253  95 293 230\n",
      " 201  84 130   0 331  75 264 371   0 337 114 340 103   0  23 252 291   0\n",
      " 354  20 224  52 115 251  90   0 394 129 379  54 335 430   3  97 342 206\n",
      " 311 125 262 213 413 289 306 174 157 169 316 171 298 467 381 185 417 175\n",
      "  10  68  11 182 244 447 302 204 376   5   0 374  32 411 307 173 352 468\n",
      " 274 288 163  93 377  92 257 160 325 304 398 155 191  73 166 312 372  82\n",
      " 380 425 319 461   0  51  13 434 356 227 295   0 470 269   0 369 326   0\n",
      "  99 323 462 423 442 154  71 217 254 407  19   0 212 170  67  22 375 258\n",
      "   0  46 184 446 194  30 199 190   1 229 202 362 459 410 193  59 473 255\n",
      " 243 239 279 214 133 139 237 141 110 265 195 436   2 406 419   7 183 178\n",
      "  35 101  58 450 386 421 368  55 147 327   0 366 200 177 364 321 181   0\n",
      "  61 347 343 186 301  50 384 209 149 400 111  34   0 344  47 451   6 449\n",
      " 283 221 140 317 233 408 266 270 179 226 299  16  41 370 272 210 245 309\n",
      " 142 100 277  74 318  18 396 324 290 392 445 395  12  48 121 246 334 109\n",
      " 276 105 124   0  81  40  76 402  79 474 330 275  91 363 132 268 472   0\n",
      " 412 112 234 453 120 456   0 135 351 391 349  26 108 198 222 348 273  43\n",
      " 313 345 338 405 378 322 223  21 320 282 294  49  62 401 232 359 247 248\n",
      " 387 152 263 162 168 187 285 159 420  86 208 167 431 278 397  31 292 383\n",
      " 261 404 151 428 469 180 165 432 441 148 172 188  42  83  69 102 235 287\n",
      " 439  70 393 205 231 358  57 314 271 329 297 471 118 143 122 136 119 416\n",
      " 429 134  94   0 138 353 280  28 438 455 123 176 296 305 357 465 211  96\n",
      "  39 107 236 454 150 286 240   0   0 144 156 399 360 458]\n"
     ]
    }
   ],
   "source": [
    "from sklearn.preprocessing import StandardScaler, LabelEncoder\n",
    "data1 =  file['intensity_db']\n",
    "label_encoder = LabelEncoder()\n",
    "encoded_data1 = label_encoder.fit_transform(data1)\n",
    "print(encoded_data1) "
   ]
  },
  {
   "cell_type": "code",
   "execution_count": 35,
   "id": "c5be39ba-6f17-4cbc-af06-9a8a7b8a18ce",
   "metadata": {},
   "outputs": [
    {
     "name": "stdout",
     "output_type": "stream",
     "text": [
      "Mean is  492.78041088251854\n"
     ]
    }
   ],
   "source": [
    "# Mean\n",
    "mean = file['depth_meters'].mean()\n",
    "print(f\"Mean is  {mean}\")"
   ]
  },
  {
   "cell_type": "code",
   "execution_count": 36,
   "id": "3e02d888-8d97-4edb-9695-beaa4fb27471",
   "metadata": {},
   "outputs": [
    {
     "name": "stdout",
     "output_type": "stream",
     "text": [
      "mode is 0    0.0\n",
      "Name: depth_meters, dtype: float64\n"
     ]
    }
   ],
   "source": [
    "# Mode\n",
    "mode = file['depth_meters'].mode()\n",
    "print(f\"mode is {mode}\")"
   ]
  },
  {
   "cell_type": "code",
   "execution_count": 37,
   "id": "c4c952e6-8650-458a-b61d-1f06cbe45dff",
   "metadata": {},
   "outputs": [
    {
     "name": "stdout",
     "output_type": "stream",
     "text": [
      "standard deviation is 130.71484148254444\n"
     ]
    }
   ],
   "source": [
    "# Standard Deviation\n",
    "std_dev = file['depth_meters'].std()\n",
    "print(f\"standard deviation is {std_dev}\")"
   ]
  },
  {
   "cell_type": "code",
   "execution_count": 38,
   "id": "a4262d9e-f17a-4da9-b2f1-ae79b1a7fe40",
   "metadata": {},
   "outputs": [
    {
     "name": "stdout",
     "output_type": "stream",
     "text": [
      "median is 505.8140147408641\n"
     ]
    }
   ],
   "source": [
    "# Median\n",
    "median = file['depth_meters'].median()\n",
    "print(f\"median is {median}\")"
   ]
  },
  {
   "cell_type": "code",
   "execution_count": 40,
   "id": "b1b87604-01de-4bdc-be59-f07b73b36edb",
   "metadata": {},
   "outputs": [
    {
     "name": "stdout",
     "output_type": "stream",
     "text": [
      "variance is 17086.36978380672\n"
     ]
    }
   ],
   "source": [
    "# Variance\n",
    "variance = file['depth_meters'].var()\n",
    "print(f\"variance is {variance}\")"
   ]
  },
  {
   "cell_type": "code",
   "execution_count": 41,
   "id": "b5efd41a-89d1-4c88-a035-2175ea9ae7e8",
   "metadata": {},
   "outputs": [
    {
     "name": "stdout",
     "output_type": "stream",
     "text": [
      "133.47197294442833\n"
     ]
    }
   ],
   "source": [
    "# Interquartile Range (IQR)\n",
    "Q1 = file['depth_meters'].quantile(0.25)  # First Quartile\n",
    "Q3 = file['depth_meters'].quantile(0.75)  # Third Quartile\n",
    "IQR = Q3 - Q1  # Interquartile Range\n",
    "print(IQR)"
   ]
  },
  {
   "cell_type": "code",
   "execution_count": 42,
   "id": "3ff96067-1b2e-433f-ae7a-9e9c6d76fd5e",
   "metadata": {},
   "outputs": [
    {
     "name": "stdout",
     "output_type": "stream",
     "text": [
      "757.9709337654319\n"
     ]
    }
   ],
   "source": [
    "# Maximum and Minimum\n",
    "maxum = file['depth_meters'].max()\n",
    "minum = file['depth_meters'].min()\n",
    "range1 = maxum - minum\n",
    "print(range1)"
   ]
  },
  {
   "cell_type": "code",
   "execution_count": 43,
   "id": "e2bba9e5-fca6-4296-b14e-0d51d360fe88",
   "metadata": {},
   "outputs": [
    {
     "name": "stdout",
     "output_type": "stream",
     "text": [
      "0.2652598167375358\n"
     ]
    }
   ],
   "source": [
    "# Coefficient of Variation (CV)\n",
    "cv = std_dev / mean\n",
    "print(cv)"
   ]
  },
  {
   "cell_type": "code",
   "execution_count": 45,
   "id": "428de798-6276-4fe0-b0ca-44e679d34654",
   "metadata": {},
   "outputs": [
    {
     "name": "stdout",
     "output_type": "stream",
     "text": [
      "depth_meters    0\n",
      "intensity_db    0\n",
      "dtype: int64\n"
     ]
    }
   ],
   "source": [
    "#checking if there are still any missing values \n",
    "missing_values = file[['depth_meters', 'intensity_db']].isnull().sum()\n",
    "print(missing_values)\n"
   ]
  },
  {
   "cell_type": "code",
   "execution_count": null,
   "id": "4656deef-1205-4a70-8f4d-60d4879cb24d",
   "metadata": {},
   "outputs": [],
   "source": [
    "!pip install seaborn"
   ]
  },
  {
   "cell_type": "code",
   "execution_count": 49,
   "id": "b4d6f646-3934-4438-a6fc-7f05401e4579",
   "metadata": {},
   "outputs": [
    {
     "data": {
      "image/png": "[encoded data removed]",
      "text/plain": [
       "<Figure size 640x480 with 1 Axes>"
      ]
     },
     "metadata": {},
     "output_type": "display_data"
    }
   ],
   "source": [
    "#understanding types of sounds \n",
    "file[\"sound_type\"].hist(bins=20)\n",
    "plt.show()"
   ]
  },
  {
   "cell_type": "markdown",
   "id": "2474784c-483a-4cc6-9d39-ebd5cbd9d351",
   "metadata": {},
   "source": [
    "<h3>Histogram of Sound Types:</h3>\n",
    "\n",
    "<ul>\n",
    "    <li><strong>X-axis:</strong> Different types of sound available in our dataset</li>\n",
    "    <li><strong>Y-axis:</strong> Frequency (count) of each sound type.</li>\n",
    "</ul>\n",
    "\n",
    "<p>This histogram shows the distribution and frequency of sound types in the dataset.</p>\n"
   ]
  },
  {
   "cell_type": "code",
   "execution_count": 53,
   "id": "ac65c7df-8ca9-44dc-80b7-b21dcf2036c3",
   "metadata": {},
   "outputs": [
    {
     "data": {
      "image/png": "[encoded data removed]",
      "text/plain": [
       "<Figure size 640x480 with 1 Axes>"
      ]
     },
     "metadata": {},
     "output_type": "display_data"
    }
   ],
   "source": [
    "#Scatter plot of all types of sound available in our dataset represented by different colours\n",
    "import seaborn as sns\n",
    "\n",
    "sns.scatterplot(x='depth_meters', y='intensity_db', hue='sound_type', data=file)\n",
    "plt.xlabel('Depth (meters)')\n",
    "plt.ylabel('Sound Intensity (dB)')\n",
    "plt.title('Depth vs Sound Intensity by Sound Type')\n",
    "plt.show()"
   ]
  },
  {
   "cell_type": "markdown",
   "id": "154cd634-d7e3-4ab0-b7c2-621f5a9c4747",
   "metadata": {},
   "source": [
    "<h3>Scatter Plot Explanation:</h3>\n",
    "\n",
    "<ul>\n",
    "    <li><strong>X-axis (Depth):</strong> Depth of water in meters; moving right indicates deeper water.</li>\n",
    "    <li><strong>Y-axis (Sound Intensity):</strong> Sound intensity in decibels (dB); moving up means louder sounds.</li>\n",
    "    <li><strong>Colored Dots:</strong> Each dot shows sound intensity at a specific depth for a sound type, with colors indicating different sounds (e.g., whale calls, ship noise).</li>\n",
    "</ul>\n",
    "\n",
    "<h4>Observations:</h4>\n",
    "<ul>\n",
    "    <li>The graph shows sound intensity at specific depths for each sound type.</li>\n",
    "    <li>You can see how intensity changes with depth for different sounds.</li>\n",
    "    <li>Certain sounds may be louder at specific depths.</li>\n",
    "    <li>Dots of different colors close together indicate multiple sounds at that depth.</li>\n",
    "</ul>\n",
    "\n",
    "<p>This scatter plot illustrates the relationship between depth and sound intensity for various sound types in the underwater environment.</p>\n"
   ]
  },
  {
   "cell_type": "code",
   "execution_count": 48,
   "id": "30f7fade-eac2-4287-9d9a-6f0dc10abde2",
   "metadata": {},
   "outputs": [
    {
     "data": {
      "image/png": "[encoded data removed]",
      "text/plain": [
       "<Figure size 640x480 with 1 Axes>"
      ]
     },
     "metadata": {},
     "output_type": "display_data"
    }
   ],
   "source": [
    "#scatter plot to visualize how sound intensity changes with depth\n",
    "import matplotlib.pyplot as plt\n",
    "import seaborn as sns\n",
    "\n",
    "plt.scatter(file['depth_meters'], file['intensity_db'])\n",
    "plt.xlabel('Depth (meters)')\n",
    "plt.ylabel('Sound Intensity (dB)')\n",
    "plt.title('Depth vs. Sound Intensity')\n",
    "plt.show()\n"
   ]
  },
  {
   "cell_type": "markdown",
   "id": "a239230f-fec8-4c3f-aedf-0b208af5d20d",
   "metadata": {},
   "source": [
    "<h3>Explaination of Scatter Plot of Depth vs. Sound Intensity:</h3>\n",
    "\n",
    "<ul>\n",
    "    <li><strong>X-axis:</strong> Depth of water in meters.</li>\n",
    "    <li><strong>Y-axis:</strong> Sound intensity in decibels (dB).</li>\n",
    "    <li>Each dot represents the sound intensity at a specific depth.</li>\n",
    "</ul>\n",
    "<p>This scatter plot visualizes the relationship between water depth and sound intensity.</p>\n"
   ]
  },
  {
   "cell_type": "code",
   "execution_count": 55,
   "id": "7e2810a5-b471-4fbd-89fc-924fac0c17ff",
   "metadata": {},
   "outputs": [
    {
     "name": "stdout",
     "output_type": "stream",
     "text": [
      "              depth_meters  intensity_db\n",
      "depth_meters      1.000000     -0.003388\n",
      "intensity_db     -0.003388      1.000000\n"
     ]
    }
   ],
   "source": [
    "correlation = file[['depth_meters', 'intensity_db']].corr()\n",
    "print(correlation)\n",
    "#The correlation coefficient between depth and sound intensity is -0.003388, indicating a \n",
    "#negligible negative correlation. This suggests that changes in depth do not significantly affect sound intensity in this dataset."
   ]
  },
  {
   "cell_type": "code",
   "execution_count": 52,
   "id": "91d612a2-7ee4-4e55-8615-371490e6ac41",
   "metadata": {},
   "outputs": [
    {
     "data": {
      "image/png": "[encoded data removed]",
      "text/plain": [
       "<Figure size 640x480 with 1 Axes>"
      ]
     },
     "metadata": {},
     "output_type": "display_data"
    }
   ],
   "source": [
    "#Performing linear regression to predict the relationship between depth and sound intensity. This will help predict sound intensity based on depth.\n",
    "#Import the LinearRegression class from sklearn \n",
    "from sklearn.linear_model import LinearRegression\n",
    "\n",
    "#Get access to 'depth_meters' column of our data set and 'intensity_db' column of our dataset and store them in variable X and Y resp\n",
    "X = file[['depth_meters']]  #Depth of water(input)\n",
    "y = file['intensity_db']    #Sound intensity(target/output)\n",
    "\n",
    "#Create a Linear Regression model and fit it to the data\n",
    "model = LinearRegression()  #Initialize the linear regression model\n",
    "model.fit(X, y)             #Train the model using the input and target data\n",
    "\n",
    "#Predict the sound intensity based on the depth values in the data\n",
    "predictions = model.predict(X)  \n",
    "\n",
    "#Plot the actual data points as a scatter plot and the regression line\n",
    "plt.scatter(file['depth_meters'], file['intensity_db'], alpha=0.5)  #Plot actual data (blue dots)\n",
    "plt.plot(file['depth_meters'], predictions, color='red', linewidth=2)  #Plot regression line (red line)\n",
    "plt.xlabel('Depth (meters)')  \n",
    "plt.ylabel('Sound Intensity (dB)')  \n",
    "plt.title('Linear Regression: Depth vs. Sound Intensity') \n",
    "plt.show() \n",
    "\n"
   ]
  },
  {
   "cell_type": "markdown",
   "id": "ca116a8a-3e1f-481d-9fc1-f8ef1365640c",
   "metadata": {},
   "source": [
    "<h3>Graph Explanation:</h3>\n",
    "<p><strong>Blue Dots:</strong> These are your actual data points. Each blue dot shows the depth of the water (on the x-axis) and the sound intensity at that depth (on the y-axis). So, each dot represents a real measurement: \"At this depth, the sound intensity was this much.\"</p>\n",
    "\n",
    "<p><strong>Red Line:</strong> This is the <em>regression line</em>. It’s the best-fit straight line that shows the overall trend of how sound intensity changes with depth. It’s what the linear regression model predicts.\n",
    "    <ul>\n",
    "        <li>If a blue dot is close to the red line, the model’s prediction is close to the actual value.</li>\n",
    "        <li>If a blue dot is far from the red line, the model’s prediction is less accurate at that depth, but the red line still captures the overall pattern.</li>\n",
    "    </ul>\n",
    "</p>\n",
    "\n",
    "<h4>In the graph:</h4>\n",
    "<ul>\n",
    "    <li>The x-axis (horizontal) shows the depth underwater, and the y-axis (vertical) shows the sound intensity.</li>\n",
    "    <li>The red line helps us understand the general relationship: how sound intensity changes as depth increases.</li>\n",
    "</ul>\n"
   ]
  },
  {
   "cell_type": "code",
   "execution_count": null,
   "id": "1fad3814-c84f-48af-8892-a61f7b430f48",
   "metadata": {},
   "outputs": [],
   "source": []
  }
 ],
 "metadata": {
  "kernelspec": {
   "display_name": "Python 3 (ipykernel)",
   "language": "python",
   "name": "python3"
  },
  "language_info": {
   "codemirror_mode": {
    "name": "ipython",
    "version": 3
   },
   "file_extension": ".py",
   "mimetype": "text/x-python",
   "name": "python",
   "nbconvert_exporter": "python",
   "pygments_lexer": "ipython3",
   "version": "3.12.2"
  }
 },
 "nbformat": 4,
 "nbformat_minor": 5
}
